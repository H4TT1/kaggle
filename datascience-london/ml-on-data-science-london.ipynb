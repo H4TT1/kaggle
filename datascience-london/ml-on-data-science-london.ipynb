{
 "cells": [
  {
   "cell_type": "markdown",
   "metadata": {},
   "source": [
    "# ML on Data Science London"
   ]
  },
  {
   "cell_type": "code",
   "execution_count": 4,
   "metadata": {
    "execution": {
     "iopub.execute_input": "2025-07-30T19:28:48.248108Z",
     "iopub.status.busy": "2025-07-30T19:28:48.24702Z",
     "iopub.status.idle": "2025-07-30T19:28:48.254573Z",
     "shell.execute_reply": "2025-07-30T19:28:48.253528Z",
     "shell.execute_reply.started": "2025-07-30T19:28:48.248053Z"
    },
    "trusted": true
   },
   "outputs": [],
   "source": [
    "import numpy as np\n",
    "import pandas as pd\n",
    "import matplotlib.pyplot as plt\n",
    "import seaborn as sns"
   ]
  },
  {
   "cell_type": "code",
   "execution_count": 5,
   "metadata": {
    "execution": {
     "iopub.execute_input": "2025-07-30T19:28:48.25648Z",
     "iopub.status.busy": "2025-07-30T19:28:48.256182Z",
     "iopub.status.idle": "2025-07-30T19:28:48.283251Z",
     "shell.execute_reply": "2025-07-30T19:28:48.282042Z",
     "shell.execute_reply.started": "2025-07-30T19:28:48.256458Z"
    },
    "trusted": true
   },
   "outputs": [],
   "source": [
    "import warnings\n",
    "warnings.filterwarnings('ignore')"
   ]
  },
  {
   "cell_type": "code",
   "execution_count": 6,
   "metadata": {
    "execution": {
     "iopub.execute_input": "2025-07-30T19:28:48.285837Z",
     "iopub.status.busy": "2025-07-30T19:28:48.284676Z",
     "iopub.status.idle": "2025-07-30T19:28:48.50041Z",
     "shell.execute_reply": "2025-07-30T19:28:48.499173Z",
     "shell.execute_reply.started": "2025-07-30T19:28:48.285792Z"
    },
    "trusted": true
   },
   "outputs": [
    {
     "data": {
      "text/html": [
       "<div>\n",
       "<style scoped>\n",
       "    .dataframe tbody tr th:only-of-type {\n",
       "        vertical-align: middle;\n",
       "    }\n",
       "\n",
       "    .dataframe tbody tr th {\n",
       "        vertical-align: top;\n",
       "    }\n",
       "\n",
       "    .dataframe thead th {\n",
       "        text-align: right;\n",
       "    }\n",
       "</style>\n",
       "<table border=\"1\" class=\"dataframe\">\n",
       "  <thead>\n",
       "    <tr style=\"text-align: right;\">\n",
       "      <th></th>\n",
       "      <th>Feat1</th>\n",
       "      <th>Feat2</th>\n",
       "      <th>Feat3</th>\n",
       "      <th>Feat4</th>\n",
       "      <th>Feat5</th>\n",
       "      <th>Feat6</th>\n",
       "      <th>Feat7</th>\n",
       "      <th>Feat8</th>\n",
       "      <th>Feat9</th>\n",
       "      <th>Feat10</th>\n",
       "      <th>...</th>\n",
       "      <th>Feat32</th>\n",
       "      <th>Feat33</th>\n",
       "      <th>Feat34</th>\n",
       "      <th>Feat35</th>\n",
       "      <th>Feat36</th>\n",
       "      <th>Feat37</th>\n",
       "      <th>Feat38</th>\n",
       "      <th>Feat39</th>\n",
       "      <th>Feat40</th>\n",
       "      <th>Label</th>\n",
       "    </tr>\n",
       "  </thead>\n",
       "  <tbody>\n",
       "    <tr>\n",
       "      <th>0</th>\n",
       "      <td>0.299403</td>\n",
       "      <td>-1.226624</td>\n",
       "      <td>1.498425</td>\n",
       "      <td>-1.176150</td>\n",
       "      <td>5.289853</td>\n",
       "      <td>0.208297</td>\n",
       "      <td>2.404498</td>\n",
       "      <td>1.594506</td>\n",
       "      <td>-0.051608</td>\n",
       "      <td>0.663234</td>\n",
       "      <td>...</td>\n",
       "      <td>-0.622990</td>\n",
       "      <td>-1.833057</td>\n",
       "      <td>0.293024</td>\n",
       "      <td>3.552681</td>\n",
       "      <td>0.717611</td>\n",
       "      <td>3.305972</td>\n",
       "      <td>-2.715559</td>\n",
       "      <td>-2.682409</td>\n",
       "      <td>0.101050</td>\n",
       "      <td>1</td>\n",
       "    </tr>\n",
       "    <tr>\n",
       "      <th>1</th>\n",
       "      <td>-1.174176</td>\n",
       "      <td>0.332157</td>\n",
       "      <td>0.949919</td>\n",
       "      <td>-1.285328</td>\n",
       "      <td>2.199061</td>\n",
       "      <td>-0.151268</td>\n",
       "      <td>-0.427039</td>\n",
       "      <td>2.619246</td>\n",
       "      <td>-0.765884</td>\n",
       "      <td>-0.093780</td>\n",
       "      <td>...</td>\n",
       "      <td>0.012037</td>\n",
       "      <td>2.038836</td>\n",
       "      <td>0.468579</td>\n",
       "      <td>-0.517657</td>\n",
       "      <td>0.422326</td>\n",
       "      <td>0.803699</td>\n",
       "      <td>1.213219</td>\n",
       "      <td>1.382932</td>\n",
       "      <td>-1.817761</td>\n",
       "      <td>0</td>\n",
       "    </tr>\n",
       "    <tr>\n",
       "      <th>2</th>\n",
       "      <td>1.192222</td>\n",
       "      <td>-0.414371</td>\n",
       "      <td>0.067054</td>\n",
       "      <td>-2.233568</td>\n",
       "      <td>3.658881</td>\n",
       "      <td>0.089007</td>\n",
       "      <td>0.203439</td>\n",
       "      <td>-4.219054</td>\n",
       "      <td>-1.184919</td>\n",
       "      <td>-1.240310</td>\n",
       "      <td>...</td>\n",
       "      <td>0.750054</td>\n",
       "      <td>-3.360521</td>\n",
       "      <td>0.856988</td>\n",
       "      <td>-2.751451</td>\n",
       "      <td>-1.582735</td>\n",
       "      <td>1.672246</td>\n",
       "      <td>0.656438</td>\n",
       "      <td>-0.932473</td>\n",
       "      <td>2.987436</td>\n",
       "      <td>0</td>\n",
       "    </tr>\n",
       "    <tr>\n",
       "      <th>3</th>\n",
       "      <td>1.573270</td>\n",
       "      <td>-0.580318</td>\n",
       "      <td>-0.866332</td>\n",
       "      <td>-0.603812</td>\n",
       "      <td>3.125716</td>\n",
       "      <td>0.870321</td>\n",
       "      <td>-0.161992</td>\n",
       "      <td>4.499666</td>\n",
       "      <td>1.038741</td>\n",
       "      <td>-1.092716</td>\n",
       "      <td>...</td>\n",
       "      <td>1.275598</td>\n",
       "      <td>-3.480110</td>\n",
       "      <td>-1.065252</td>\n",
       "      <td>2.153133</td>\n",
       "      <td>1.563539</td>\n",
       "      <td>2.767117</td>\n",
       "      <td>0.215748</td>\n",
       "      <td>0.619645</td>\n",
       "      <td>1.883397</td>\n",
       "      <td>1</td>\n",
       "    </tr>\n",
       "    <tr>\n",
       "      <th>4</th>\n",
       "      <td>-0.613071</td>\n",
       "      <td>-0.644204</td>\n",
       "      <td>1.112558</td>\n",
       "      <td>-0.032397</td>\n",
       "      <td>3.490142</td>\n",
       "      <td>-0.011935</td>\n",
       "      <td>1.443521</td>\n",
       "      <td>-4.290282</td>\n",
       "      <td>-1.761308</td>\n",
       "      <td>0.807652</td>\n",
       "      <td>...</td>\n",
       "      <td>-1.803473</td>\n",
       "      <td>0.518579</td>\n",
       "      <td>-0.205029</td>\n",
       "      <td>-4.744566</td>\n",
       "      <td>-1.520015</td>\n",
       "      <td>1.830651</td>\n",
       "      <td>0.870772</td>\n",
       "      <td>-1.894609</td>\n",
       "      <td>0.408332</td>\n",
       "      <td>0</td>\n",
       "    </tr>\n",
       "    <tr>\n",
       "      <th>...</th>\n",
       "      <td>...</td>\n",
       "      <td>...</td>\n",
       "      <td>...</td>\n",
       "      <td>...</td>\n",
       "      <td>...</td>\n",
       "      <td>...</td>\n",
       "      <td>...</td>\n",
       "      <td>...</td>\n",
       "      <td>...</td>\n",
       "      <td>...</td>\n",
       "      <td>...</td>\n",
       "      <td>...</td>\n",
       "      <td>...</td>\n",
       "      <td>...</td>\n",
       "      <td>...</td>\n",
       "      <td>...</td>\n",
       "      <td>...</td>\n",
       "      <td>...</td>\n",
       "      <td>...</td>\n",
       "      <td>...</td>\n",
       "      <td>...</td>\n",
       "    </tr>\n",
       "    <tr>\n",
       "      <th>995</th>\n",
       "      <td>-0.310429</td>\n",
       "      <td>0.826811</td>\n",
       "      <td>-0.952245</td>\n",
       "      <td>0.768850</td>\n",
       "      <td>1.877520</td>\n",
       "      <td>1.320646</td>\n",
       "      <td>1.944609</td>\n",
       "      <td>1.191420</td>\n",
       "      <td>-0.127724</td>\n",
       "      <td>0.070937</td>\n",
       "      <td>...</td>\n",
       "      <td>-0.383792</td>\n",
       "      <td>0.745596</td>\n",
       "      <td>-0.698598</td>\n",
       "      <td>-2.729937</td>\n",
       "      <td>-0.431535</td>\n",
       "      <td>0.372873</td>\n",
       "      <td>1.019092</td>\n",
       "      <td>-2.672811</td>\n",
       "      <td>-0.295141</td>\n",
       "      <td>0</td>\n",
       "    </tr>\n",
       "    <tr>\n",
       "      <th>996</th>\n",
       "      <td>-1.853879</td>\n",
       "      <td>0.246726</td>\n",
       "      <td>0.459921</td>\n",
       "      <td>-2.074267</td>\n",
       "      <td>7.599220</td>\n",
       "      <td>-0.138355</td>\n",
       "      <td>-4.501900</td>\n",
       "      <td>0.630634</td>\n",
       "      <td>-1.590533</td>\n",
       "      <td>-1.112949</td>\n",
       "      <td>...</td>\n",
       "      <td>0.240052</td>\n",
       "      <td>-0.856196</td>\n",
       "      <td>-0.072481</td>\n",
       "      <td>-2.935896</td>\n",
       "      <td>0.582411</td>\n",
       "      <td>-2.613407</td>\n",
       "      <td>0.036687</td>\n",
       "      <td>2.809310</td>\n",
       "      <td>4.412567</td>\n",
       "      <td>1</td>\n",
       "    </tr>\n",
       "    <tr>\n",
       "      <th>997</th>\n",
       "      <td>0.912748</td>\n",
       "      <td>-1.734039</td>\n",
       "      <td>-1.047035</td>\n",
       "      <td>0.217573</td>\n",
       "      <td>13.457812</td>\n",
       "      <td>0.162771</td>\n",
       "      <td>-2.250521</td>\n",
       "      <td>2.216161</td>\n",
       "      <td>-0.378326</td>\n",
       "      <td>0.642114</td>\n",
       "      <td>...</td>\n",
       "      <td>-1.073806</td>\n",
       "      <td>-2.754369</td>\n",
       "      <td>1.814864</td>\n",
       "      <td>-4.190105</td>\n",
       "      <td>-1.116441</td>\n",
       "      <td>-2.100125</td>\n",
       "      <td>0.061513</td>\n",
       "      <td>0.895536</td>\n",
       "      <td>0.813686</td>\n",
       "      <td>1</td>\n",
       "    </tr>\n",
       "    <tr>\n",
       "      <th>998</th>\n",
       "      <td>2.439780</td>\n",
       "      <td>-0.735511</td>\n",
       "      <td>-0.902426</td>\n",
       "      <td>1.365036</td>\n",
       "      <td>-10.430299</td>\n",
       "      <td>-0.856859</td>\n",
       "      <td>2.686474</td>\n",
       "      <td>0.292035</td>\n",
       "      <td>0.585388</td>\n",
       "      <td>-0.876965</td>\n",
       "      <td>...</td>\n",
       "      <td>-0.039488</td>\n",
       "      <td>0.773876</td>\n",
       "      <td>-0.916066</td>\n",
       "      <td>2.604827</td>\n",
       "      <td>-0.649874</td>\n",
       "      <td>-3.423674</td>\n",
       "      <td>0.229748</td>\n",
       "      <td>-2.311088</td>\n",
       "      <td>-3.422217</td>\n",
       "      <td>0</td>\n",
       "    </tr>\n",
       "    <tr>\n",
       "      <th>999</th>\n",
       "      <td>0.228994</td>\n",
       "      <td>-0.085453</td>\n",
       "      <td>0.876582</td>\n",
       "      <td>1.057401</td>\n",
       "      <td>-1.404015</td>\n",
       "      <td>-1.091965</td>\n",
       "      <td>0.639176</td>\n",
       "      <td>0.701332</td>\n",
       "      <td>-0.906577</td>\n",
       "      <td>-0.390940</td>\n",
       "      <td>...</td>\n",
       "      <td>1.024757</td>\n",
       "      <td>-1.796571</td>\n",
       "      <td>0.603161</td>\n",
       "      <td>0.862705</td>\n",
       "      <td>0.747234</td>\n",
       "      <td>3.275681</td>\n",
       "      <td>0.400372</td>\n",
       "      <td>-3.431031</td>\n",
       "      <td>2.370080</td>\n",
       "      <td>0</td>\n",
       "    </tr>\n",
       "  </tbody>\n",
       "</table>\n",
       "<p>1000 rows × 41 columns</p>\n",
       "</div>"
      ],
      "text/plain": [
       "        Feat1     Feat2     Feat3     Feat4      Feat5     Feat6     Feat7  \\\n",
       "0    0.299403 -1.226624  1.498425 -1.176150   5.289853  0.208297  2.404498   \n",
       "1   -1.174176  0.332157  0.949919 -1.285328   2.199061 -0.151268 -0.427039   \n",
       "2    1.192222 -0.414371  0.067054 -2.233568   3.658881  0.089007  0.203439   \n",
       "3    1.573270 -0.580318 -0.866332 -0.603812   3.125716  0.870321 -0.161992   \n",
       "4   -0.613071 -0.644204  1.112558 -0.032397   3.490142 -0.011935  1.443521   \n",
       "..        ...       ...       ...       ...        ...       ...       ...   \n",
       "995 -0.310429  0.826811 -0.952245  0.768850   1.877520  1.320646  1.944609   \n",
       "996 -1.853879  0.246726  0.459921 -2.074267   7.599220 -0.138355 -4.501900   \n",
       "997  0.912748 -1.734039 -1.047035  0.217573  13.457812  0.162771 -2.250521   \n",
       "998  2.439780 -0.735511 -0.902426  1.365036 -10.430299 -0.856859  2.686474   \n",
       "999  0.228994 -0.085453  0.876582  1.057401  -1.404015 -1.091965  0.639176   \n",
       "\n",
       "        Feat8     Feat9    Feat10  ...    Feat32    Feat33    Feat34  \\\n",
       "0    1.594506 -0.051608  0.663234  ... -0.622990 -1.833057  0.293024   \n",
       "1    2.619246 -0.765884 -0.093780  ...  0.012037  2.038836  0.468579   \n",
       "2   -4.219054 -1.184919 -1.240310  ...  0.750054 -3.360521  0.856988   \n",
       "3    4.499666  1.038741 -1.092716  ...  1.275598 -3.480110 -1.065252   \n",
       "4   -4.290282 -1.761308  0.807652  ... -1.803473  0.518579 -0.205029   \n",
       "..        ...       ...       ...  ...       ...       ...       ...   \n",
       "995  1.191420 -0.127724  0.070937  ... -0.383792  0.745596 -0.698598   \n",
       "996  0.630634 -1.590533 -1.112949  ...  0.240052 -0.856196 -0.072481   \n",
       "997  2.216161 -0.378326  0.642114  ... -1.073806 -2.754369  1.814864   \n",
       "998  0.292035  0.585388 -0.876965  ... -0.039488  0.773876 -0.916066   \n",
       "999  0.701332 -0.906577 -0.390940  ...  1.024757 -1.796571  0.603161   \n",
       "\n",
       "       Feat35    Feat36    Feat37    Feat38    Feat39    Feat40  Label  \n",
       "0    3.552681  0.717611  3.305972 -2.715559 -2.682409  0.101050      1  \n",
       "1   -0.517657  0.422326  0.803699  1.213219  1.382932 -1.817761      0  \n",
       "2   -2.751451 -1.582735  1.672246  0.656438 -0.932473  2.987436      0  \n",
       "3    2.153133  1.563539  2.767117  0.215748  0.619645  1.883397      1  \n",
       "4   -4.744566 -1.520015  1.830651  0.870772 -1.894609  0.408332      0  \n",
       "..        ...       ...       ...       ...       ...       ...    ...  \n",
       "995 -2.729937 -0.431535  0.372873  1.019092 -2.672811 -0.295141      0  \n",
       "996 -2.935896  0.582411 -2.613407  0.036687  2.809310  4.412567      1  \n",
       "997 -4.190105 -1.116441 -2.100125  0.061513  0.895536  0.813686      1  \n",
       "998  2.604827 -0.649874 -3.423674  0.229748 -2.311088 -3.422217      0  \n",
       "999  0.862705  0.747234  3.275681  0.400372 -3.431031  2.370080      0  \n",
       "\n",
       "[1000 rows x 41 columns]"
      ]
     },
     "execution_count": 6,
     "metadata": {},
     "output_type": "execute_result"
    }
   ],
   "source": [
    "train=pd.read_csv('data/train.csv',header=None)\n",
    "test=pd.read_csv('data/test.csv',header=None)\n",
    "train_labels=pd.read_csv('data/trainLabels.csv',header=None)\n",
    "train.columns=['Feat'+str(i) for i in range(1,train.shape[1]+1)]\n",
    "test.Featumns=['Feat'+str(i) for i in range(1,train.shape[1]+1)]\n",
    "train['Label']=train_labels\n",
    "train"
   ]
  },
  {
   "cell_type": "code",
   "execution_count": 7,
   "metadata": {
    "execution": {
     "iopub.execute_input": "2025-07-30T19:28:48.502165Z",
     "iopub.status.busy": "2025-07-30T19:28:48.501714Z",
     "iopub.status.idle": "2025-07-30T19:28:48.517808Z",
     "shell.execute_reply": "2025-07-30T19:28:48.51645Z",
     "shell.execute_reply.started": "2025-07-30T19:28:48.502131Z"
    },
    "trusted": true
   },
   "outputs": [
    {
     "name": "stdout",
     "output_type": "stream",
     "text": [
      "<class 'pandas.core.frame.DataFrame'>\n",
      "RangeIndex: 1000 entries, 0 to 999\n",
      "Data columns (total 41 columns):\n",
      " #   Column  Non-Null Count  Dtype  \n",
      "---  ------  --------------  -----  \n",
      " 0   Feat1   1000 non-null   float64\n",
      " 1   Feat2   1000 non-null   float64\n",
      " 2   Feat3   1000 non-null   float64\n",
      " 3   Feat4   1000 non-null   float64\n",
      " 4   Feat5   1000 non-null   float64\n",
      " 5   Feat6   1000 non-null   float64\n",
      " 6   Feat7   1000 non-null   float64\n",
      " 7   Feat8   1000 non-null   float64\n",
      " 8   Feat9   1000 non-null   float64\n",
      " 9   Feat10  1000 non-null   float64\n",
      " 10  Feat11  1000 non-null   float64\n",
      " 11  Feat12  1000 non-null   float64\n",
      " 12  Feat13  1000 non-null   float64\n",
      " 13  Feat14  1000 non-null   float64\n",
      " 14  Feat15  1000 non-null   float64\n",
      " 15  Feat16  1000 non-null   float64\n",
      " 16  Feat17  1000 non-null   float64\n",
      " 17  Feat18  1000 non-null   float64\n",
      " 18  Feat19  1000 non-null   float64\n",
      " 19  Feat20  1000 non-null   float64\n",
      " 20  Feat21  1000 non-null   float64\n",
      " 21  Feat22  1000 non-null   float64\n",
      " 22  Feat23  1000 non-null   float64\n",
      " 23  Feat24  1000 non-null   float64\n",
      " 24  Feat25  1000 non-null   float64\n",
      " 25  Feat26  1000 non-null   float64\n",
      " 26  Feat27  1000 non-null   float64\n",
      " 27  Feat28  1000 non-null   float64\n",
      " 28  Feat29  1000 non-null   float64\n",
      " 29  Feat30  1000 non-null   float64\n",
      " 30  Feat31  1000 non-null   float64\n",
      " 31  Feat32  1000 non-null   float64\n",
      " 32  Feat33  1000 non-null   float64\n",
      " 33  Feat34  1000 non-null   float64\n",
      " 34  Feat35  1000 non-null   float64\n",
      " 35  Feat36  1000 non-null   float64\n",
      " 36  Feat37  1000 non-null   float64\n",
      " 37  Feat38  1000 non-null   float64\n",
      " 38  Feat39  1000 non-null   float64\n",
      " 39  Feat40  1000 non-null   float64\n",
      " 40  Label   1000 non-null   int64  \n",
      "dtypes: float64(40), int64(1)\n",
      "memory usage: 320.4 KB\n"
     ]
    }
   ],
   "source": [
    "train.info()"
   ]
  },
  {
   "cell_type": "code",
   "execution_count": 8,
   "metadata": {
    "execution": {
     "iopub.execute_input": "2025-07-30T19:28:48.521107Z",
     "iopub.status.busy": "2025-07-30T19:28:48.520712Z",
     "iopub.status.idle": "2025-07-30T19:28:48.630245Z",
     "shell.execute_reply": "2025-07-30T19:28:48.629023Z",
     "shell.execute_reply.started": "2025-07-30T19:28:48.52108Z"
    },
    "trusted": true
   },
   "outputs": [
    {
     "data": {
      "text/html": [
       "<div>\n",
       "<style scoped>\n",
       "    .dataframe tbody tr th:only-of-type {\n",
       "        vertical-align: middle;\n",
       "    }\n",
       "\n",
       "    .dataframe tbody tr th {\n",
       "        vertical-align: top;\n",
       "    }\n",
       "\n",
       "    .dataframe thead th {\n",
       "        text-align: right;\n",
       "    }\n",
       "</style>\n",
       "<table border=\"1\" class=\"dataframe\">\n",
       "  <thead>\n",
       "    <tr style=\"text-align: right;\">\n",
       "      <th></th>\n",
       "      <th>Feat1</th>\n",
       "      <th>Feat2</th>\n",
       "      <th>Feat3</th>\n",
       "      <th>Feat4</th>\n",
       "      <th>Feat5</th>\n",
       "      <th>Feat6</th>\n",
       "      <th>Feat7</th>\n",
       "      <th>Feat8</th>\n",
       "      <th>Feat9</th>\n",
       "      <th>Feat10</th>\n",
       "      <th>...</th>\n",
       "      <th>Feat32</th>\n",
       "      <th>Feat33</th>\n",
       "      <th>Feat34</th>\n",
       "      <th>Feat35</th>\n",
       "      <th>Feat36</th>\n",
       "      <th>Feat37</th>\n",
       "      <th>Feat38</th>\n",
       "      <th>Feat39</th>\n",
       "      <th>Feat40</th>\n",
       "      <th>Label</th>\n",
       "    </tr>\n",
       "  </thead>\n",
       "  <tbody>\n",
       "    <tr>\n",
       "      <th>count</th>\n",
       "      <td>1000.000000</td>\n",
       "      <td>1000.000000</td>\n",
       "      <td>1000.000000</td>\n",
       "      <td>1000.000000</td>\n",
       "      <td>1000.000000</td>\n",
       "      <td>1000.000000</td>\n",
       "      <td>1000.000000</td>\n",
       "      <td>1000.000000</td>\n",
       "      <td>1000.000000</td>\n",
       "      <td>1000.000000</td>\n",
       "      <td>...</td>\n",
       "      <td>1000.000000</td>\n",
       "      <td>1000.000000</td>\n",
       "      <td>1000.000000</td>\n",
       "      <td>1000.000000</td>\n",
       "      <td>1000.000000</td>\n",
       "      <td>1000.000000</td>\n",
       "      <td>1000.000000</td>\n",
       "      <td>1000.000000</td>\n",
       "      <td>1000.000000</td>\n",
       "      <td>1000.00000</td>\n",
       "    </tr>\n",
       "    <tr>\n",
       "      <th>mean</th>\n",
       "      <td>0.025596</td>\n",
       "      <td>-0.024526</td>\n",
       "      <td>-0.024088</td>\n",
       "      <td>-0.002271</td>\n",
       "      <td>1.092329</td>\n",
       "      <td>-0.006250</td>\n",
       "      <td>0.497342</td>\n",
       "      <td>-0.037883</td>\n",
       "      <td>0.026391</td>\n",
       "      <td>-0.003597</td>\n",
       "      <td>...</td>\n",
       "      <td>0.022951</td>\n",
       "      <td>-0.542491</td>\n",
       "      <td>-0.011608</td>\n",
       "      <td>-0.483507</td>\n",
       "      <td>0.033371</td>\n",
       "      <td>0.567185</td>\n",
       "      <td>0.006849</td>\n",
       "      <td>-0.892659</td>\n",
       "      <td>0.609451</td>\n",
       "      <td>0.51000</td>\n",
       "    </tr>\n",
       "    <tr>\n",
       "      <th>std</th>\n",
       "      <td>1.008282</td>\n",
       "      <td>1.016298</td>\n",
       "      <td>0.979109</td>\n",
       "      <td>0.970575</td>\n",
       "      <td>4.538834</td>\n",
       "      <td>0.989128</td>\n",
       "      <td>2.118819</td>\n",
       "      <td>2.232256</td>\n",
       "      <td>1.001064</td>\n",
       "      <td>1.013520</td>\n",
       "      <td>...</td>\n",
       "      <td>1.001375</td>\n",
       "      <td>2.239939</td>\n",
       "      <td>1.022456</td>\n",
       "      <td>2.121281</td>\n",
       "      <td>1.007044</td>\n",
       "      <td>2.227876</td>\n",
       "      <td>0.997635</td>\n",
       "      <td>2.022022</td>\n",
       "      <td>2.045439</td>\n",
       "      <td>0.50015</td>\n",
       "    </tr>\n",
       "    <tr>\n",
       "      <th>min</th>\n",
       "      <td>-3.365711</td>\n",
       "      <td>-3.492086</td>\n",
       "      <td>-2.695602</td>\n",
       "      <td>-3.460471</td>\n",
       "      <td>-16.421901</td>\n",
       "      <td>-3.041250</td>\n",
       "      <td>-7.224761</td>\n",
       "      <td>-6.509084</td>\n",
       "      <td>-3.145588</td>\n",
       "      <td>-2.749812</td>\n",
       "      <td>...</td>\n",
       "      <td>-2.971125</td>\n",
       "      <td>-7.840890</td>\n",
       "      <td>-2.999564</td>\n",
       "      <td>-7.124105</td>\n",
       "      <td>-2.952358</td>\n",
       "      <td>-5.452254</td>\n",
       "      <td>-3.473913</td>\n",
       "      <td>-8.051722</td>\n",
       "      <td>-7.799086</td>\n",
       "      <td>0.00000</td>\n",
       "    </tr>\n",
       "    <tr>\n",
       "      <th>25%</th>\n",
       "      <td>-0.669010</td>\n",
       "      <td>-0.693937</td>\n",
       "      <td>-0.698830</td>\n",
       "      <td>-0.617557</td>\n",
       "      <td>-1.801997</td>\n",
       "      <td>-0.732265</td>\n",
       "      <td>-0.838619</td>\n",
       "      <td>-1.604037</td>\n",
       "      <td>-0.677562</td>\n",
       "      <td>-0.682220</td>\n",
       "      <td>...</td>\n",
       "      <td>-0.696032</td>\n",
       "      <td>-2.121943</td>\n",
       "      <td>-0.664550</td>\n",
       "      <td>-1.879247</td>\n",
       "      <td>-0.642861</td>\n",
       "      <td>-1.059786</td>\n",
       "      <td>-0.691162</td>\n",
       "      <td>-2.220126</td>\n",
       "      <td>-0.565041</td>\n",
       "      <td>0.00000</td>\n",
       "    </tr>\n",
       "    <tr>\n",
       "      <th>50%</th>\n",
       "      <td>0.027895</td>\n",
       "      <td>-0.033194</td>\n",
       "      <td>0.008145</td>\n",
       "      <td>0.002327</td>\n",
       "      <td>0.862818</td>\n",
       "      <td>0.027041</td>\n",
       "      <td>0.582321</td>\n",
       "      <td>0.018809</td>\n",
       "      <td>0.022092</td>\n",
       "      <td>-0.036110</td>\n",
       "      <td>...</td>\n",
       "      <td>0.049778</td>\n",
       "      <td>-0.568262</td>\n",
       "      <td>-0.028097</td>\n",
       "      <td>-0.493575</td>\n",
       "      <td>0.037732</td>\n",
       "      <td>0.455474</td>\n",
       "      <td>0.038284</td>\n",
       "      <td>-0.855470</td>\n",
       "      <td>0.779944</td>\n",
       "      <td>1.00000</td>\n",
       "    </tr>\n",
       "    <tr>\n",
       "      <th>75%</th>\n",
       "      <td>0.762520</td>\n",
       "      <td>0.682753</td>\n",
       "      <td>0.661434</td>\n",
       "      <td>0.640743</td>\n",
       "      <td>3.843172</td>\n",
       "      <td>0.671456</td>\n",
       "      <td>1.913664</td>\n",
       "      <td>1.438304</td>\n",
       "      <td>0.741310</td>\n",
       "      <td>0.665364</td>\n",
       "      <td>...</td>\n",
       "      <td>0.699917</td>\n",
       "      <td>0.939348</td>\n",
       "      <td>0.651374</td>\n",
       "      <td>1.005795</td>\n",
       "      <td>0.691800</td>\n",
       "      <td>2.122157</td>\n",
       "      <td>0.693535</td>\n",
       "      <td>0.388698</td>\n",
       "      <td>1.992193</td>\n",
       "      <td>1.00000</td>\n",
       "    </tr>\n",
       "    <tr>\n",
       "      <th>max</th>\n",
       "      <td>3.326246</td>\n",
       "      <td>3.583870</td>\n",
       "      <td>2.546507</td>\n",
       "      <td>3.088738</td>\n",
       "      <td>17.565345</td>\n",
       "      <td>3.102997</td>\n",
       "      <td>7.592666</td>\n",
       "      <td>7.130097</td>\n",
       "      <td>3.145258</td>\n",
       "      <td>3.919426</td>\n",
       "      <td>...</td>\n",
       "      <td>3.688047</td>\n",
       "      <td>7.160379</td>\n",
       "      <td>3.353631</td>\n",
       "      <td>6.005818</td>\n",
       "      <td>3.420561</td>\n",
       "      <td>6.603499</td>\n",
       "      <td>3.492548</td>\n",
       "      <td>5.774120</td>\n",
       "      <td>6.803984</td>\n",
       "      <td>1.00000</td>\n",
       "    </tr>\n",
       "  </tbody>\n",
       "</table>\n",
       "<p>8 rows × 41 columns</p>\n",
       "</div>"
      ],
      "text/plain": [
       "             Feat1        Feat2        Feat3        Feat4        Feat5  \\\n",
       "count  1000.000000  1000.000000  1000.000000  1000.000000  1000.000000   \n",
       "mean      0.025596    -0.024526    -0.024088    -0.002271     1.092329   \n",
       "std       1.008282     1.016298     0.979109     0.970575     4.538834   \n",
       "min      -3.365711    -3.492086    -2.695602    -3.460471   -16.421901   \n",
       "25%      -0.669010    -0.693937    -0.698830    -0.617557    -1.801997   \n",
       "50%       0.027895    -0.033194     0.008145     0.002327     0.862818   \n",
       "75%       0.762520     0.682753     0.661434     0.640743     3.843172   \n",
       "max       3.326246     3.583870     2.546507     3.088738    17.565345   \n",
       "\n",
       "             Feat6        Feat7        Feat8        Feat9       Feat10  ...  \\\n",
       "count  1000.000000  1000.000000  1000.000000  1000.000000  1000.000000  ...   \n",
       "mean     -0.006250     0.497342    -0.037883     0.026391    -0.003597  ...   \n",
       "std       0.989128     2.118819     2.232256     1.001064     1.013520  ...   \n",
       "min      -3.041250    -7.224761    -6.509084    -3.145588    -2.749812  ...   \n",
       "25%      -0.732265    -0.838619    -1.604037    -0.677562    -0.682220  ...   \n",
       "50%       0.027041     0.582321     0.018809     0.022092    -0.036110  ...   \n",
       "75%       0.671456     1.913664     1.438304     0.741310     0.665364  ...   \n",
       "max       3.102997     7.592666     7.130097     3.145258     3.919426  ...   \n",
       "\n",
       "            Feat32       Feat33       Feat34       Feat35       Feat36  \\\n",
       "count  1000.000000  1000.000000  1000.000000  1000.000000  1000.000000   \n",
       "mean      0.022951    -0.542491    -0.011608    -0.483507     0.033371   \n",
       "std       1.001375     2.239939     1.022456     2.121281     1.007044   \n",
       "min      -2.971125    -7.840890    -2.999564    -7.124105    -2.952358   \n",
       "25%      -0.696032    -2.121943    -0.664550    -1.879247    -0.642861   \n",
       "50%       0.049778    -0.568262    -0.028097    -0.493575     0.037732   \n",
       "75%       0.699917     0.939348     0.651374     1.005795     0.691800   \n",
       "max       3.688047     7.160379     3.353631     6.005818     3.420561   \n",
       "\n",
       "            Feat37       Feat38       Feat39       Feat40       Label  \n",
       "count  1000.000000  1000.000000  1000.000000  1000.000000  1000.00000  \n",
       "mean      0.567185     0.006849    -0.892659     0.609451     0.51000  \n",
       "std       2.227876     0.997635     2.022022     2.045439     0.50015  \n",
       "min      -5.452254    -3.473913    -8.051722    -7.799086     0.00000  \n",
       "25%      -1.059786    -0.691162    -2.220126    -0.565041     0.00000  \n",
       "50%       0.455474     0.038284    -0.855470     0.779944     1.00000  \n",
       "75%       2.122157     0.693535     0.388698     1.992193     1.00000  \n",
       "max       6.603499     3.492548     5.774120     6.803984     1.00000  \n",
       "\n",
       "[8 rows x 41 columns]"
      ]
     },
     "execution_count": 8,
     "metadata": {},
     "output_type": "execute_result"
    }
   ],
   "source": [
    "train.describe()"
   ]
  },
  {
   "cell_type": "markdown",
   "metadata": {},
   "source": [
    "## EDA"
   ]
  },
  {
   "cell_type": "code",
   "execution_count": 37,
   "metadata": {
    "execution": {
     "iopub.execute_input": "2025-07-30T19:28:48.632007Z",
     "iopub.status.busy": "2025-07-30T19:28:48.631633Z",
     "iopub.status.idle": "2025-07-30T19:28:48.788711Z",
     "shell.execute_reply": "2025-07-30T19:28:48.78743Z",
     "shell.execute_reply.started": "2025-07-30T19:28:48.631974Z"
    },
    "trusted": true
   },
   "outputs": [
    {
     "data": {
      "text/plain": [
       "<Axes: xlabel='Label', ylabel='count'>"
      ]
     },
     "execution_count": 37,
     "metadata": {},
     "output_type": "execute_result"
    },
    {
     "data": {
      "image/png": "[encoded data removed]",
      "text/plain": [
       "<Figure size 640x480 with 1 Axes>"
      ]
     },
     "metadata": {},
     "output_type": "display_data"
    }
   ],
   "source": [
    "sns.countplot(data=train,x='Label',palette='Greens_d')"
   ]
  },
  {
   "cell_type": "code",
   "execution_count": 38,
   "metadata": {
    "execution": {
     "iopub.execute_input": "2025-07-30T19:28:48.791079Z",
     "iopub.status.busy": "2025-07-30T19:28:48.790618Z",
     "iopub.status.idle": "2025-07-30T19:28:48.809323Z",
     "shell.execute_reply": "2025-07-30T19:28:48.808027Z",
     "shell.execute_reply.started": "2025-07-30T19:28:48.791042Z"
    },
    "trusted": true
   },
   "outputs": [
    {
     "data": {
      "text/plain": [
       "Feat15    0.476171\n",
       "Feat13    0.460738\n",
       "Feat19    0.289508\n",
       "Feat40    0.264656\n",
       "Feat35    0.236116\n",
       "Name: Label, dtype: float64"
      ]
     },
     "execution_count": 38,
     "metadata": {},
     "output_type": "execute_result"
    }
   ],
   "source": [
    "train.corr()['Label'].sort_values(ascending=False).iloc[1:].head()"
   ]
  },
  {
   "cell_type": "code",
   "execution_count": 41,
   "metadata": {
    "execution": {
     "iopub.execute_input": "2025-07-30T19:28:48.810838Z",
     "iopub.status.busy": "2025-07-30T19:28:48.810489Z",
     "iopub.status.idle": "2025-07-30T19:28:49.131061Z",
     "shell.execute_reply": "2025-07-30T19:28:49.129687Z",
     "shell.execute_reply.started": "2025-07-30T19:28:48.810793Z"
    },
    "trusted": true
   },
   "outputs": [
    {
     "data": {
      "text/plain": [
       "<seaborn.axisgrid.FacetGrid at 0x77e0433d5a20>"
      ]
     },
     "execution_count": 41,
     "metadata": {},
     "output_type": "execute_result"
    },
    {
     "data": {
      "image/png": "[encoded data removed]",
      "text/plain": [
       "<Figure size 500x500 with 1 Axes>"
      ]
     },
     "metadata": {},
     "output_type": "display_data"
    }
   ],
   "source": [
    "sns.displot(train['Feat15'],color='red', kde=True)"
   ]
  },
  {
   "cell_type": "code",
   "execution_count": 42,
   "metadata": {
    "execution": {
     "iopub.execute_input": "2025-07-30T19:28:49.132672Z",
     "iopub.status.busy": "2025-07-30T19:28:49.132295Z",
     "iopub.status.idle": "2025-07-30T19:28:49.322508Z",
     "shell.execute_reply": "2025-07-30T19:28:49.321357Z",
     "shell.execute_reply.started": "2025-07-30T19:28:49.132644Z"
    },
    "trusted": true
   },
   "outputs": [
    {
     "data": {
      "text/plain": [
       "<Axes: xlabel='Label', ylabel='Feat15'>"
      ]
     },
     "execution_count": 42,
     "metadata": {},
     "output_type": "execute_result"
    },
    {
     "data": {
      "image/png": "[encoded data removed]",
      "text/plain": [
       "<Figure size 640x480 with 1 Axes>"
      ]
     },
     "metadata": {},
     "output_type": "display_data"
    }
   ],
   "source": [
    "sns.boxplot(data=train,x='Label',y='Feat15',palette='rainbow')"
   ]
  },
  {
   "cell_type": "code",
   "execution_count": 43,
   "metadata": {
    "execution": {
     "iopub.execute_input": "2025-07-30T19:28:49.586725Z",
     "iopub.status.busy": "2025-07-30T19:28:49.586363Z",
     "iopub.status.idle": "2025-07-30T19:28:50.449031Z",
     "shell.execute_reply": "2025-07-30T19:28:50.447934Z",
     "shell.execute_reply.started": "2025-07-30T19:28:49.586698Z"
    },
    "trusted": true
   },
   "outputs": [
    {
     "data": {
      "text/plain": [
       "<seaborn.axisgrid.JointGrid at 0x77e0425d9990>"
      ]
     },
     "execution_count": 43,
     "metadata": {},
     "output_type": "execute_result"
    },
    {
     "data": {
      "image/png": "[encoded data removed]",
      "text/plain": [
       "<Figure size 600x600 with 3 Axes>"
      ]
     },
     "metadata": {},
     "output_type": "display_data"
    }
   ],
   "source": [
    "sns.jointplot(data=train,x='Feat13',y='Feat15',kind='hex',color='orange')"
   ]
  },
  {
   "cell_type": "code",
   "execution_count": 15,
   "metadata": {
    "execution": {
     "iopub.execute_input": "2025-07-30T19:28:50.450444Z",
     "iopub.status.busy": "2025-07-30T19:28:50.450159Z",
     "iopub.status.idle": "2025-07-30T19:28:51.332016Z",
     "shell.execute_reply": "2025-07-30T19:28:51.330635Z",
     "shell.execute_reply.started": "2025-07-30T19:28:50.450421Z"
    },
    "trusted": true
   },
   "outputs": [
    {
     "data": {
      "text/plain": [
       "<Axes: >"
      ]
     },
     "execution_count": 15,
     "metadata": {},
     "output_type": "execute_result"
    },
    {
     "data": {
      "image/png": "[encoded data removed]",
      "text/plain": [
       "<Figure size 1200x1000 with 2 Axes>"
      ]
     },
     "metadata": {},
     "output_type": "display_data"
    }
   ],
   "source": [
    "plt.figure(figsize=(12,10))\n",
    "sns.heatmap(train.corr(),cmap='coolwarm')"
   ]
  },
  {
   "cell_type": "markdown",
   "metadata": {},
   "source": [
    "## Machine Learning"
   ]
  },
  {
   "cell_type": "code",
   "execution_count": 16,
   "metadata": {
    "execution": {
     "iopub.execute_input": "2025-07-30T19:28:51.33353Z",
     "iopub.status.busy": "2025-07-30T19:28:51.333231Z",
     "iopub.status.idle": "2025-07-30T19:28:51.338801Z",
     "shell.execute_reply": "2025-07-30T19:28:51.337253Z",
     "shell.execute_reply.started": "2025-07-30T19:28:51.333507Z"
    },
    "trusted": true
   },
   "outputs": [],
   "source": [
    "from sklearn.model_selection import train_test_split"
   ]
  },
  {
   "cell_type": "code",
   "execution_count": 17,
   "metadata": {
    "execution": {
     "iopub.execute_input": "2025-07-30T19:28:51.341296Z",
     "iopub.status.busy": "2025-07-30T19:28:51.340361Z",
     "iopub.status.idle": "2025-07-30T19:28:51.372483Z",
     "shell.execute_reply": "2025-07-30T19:28:51.371189Z",
     "shell.execute_reply.started": "2025-07-30T19:28:51.341262Z"
    },
    "trusted": true
   },
   "outputs": [],
   "source": [
    "X=train.drop('Label',axis=1)\n",
    "y=train['Label']\n",
    "X_train, X_test, y_train, y_test = train_test_split(X,y, test_size=0.3, random_state=101)"
   ]
  },
  {
   "cell_type": "markdown",
   "metadata": {},
   "source": [
    "### Logistic Regression"
   ]
  },
  {
   "cell_type": "code",
   "execution_count": 18,
   "metadata": {
    "execution": {
     "iopub.execute_input": "2025-07-30T19:28:51.374422Z",
     "iopub.status.busy": "2025-07-30T19:28:51.373975Z",
     "iopub.status.idle": "2025-07-30T19:28:51.397593Z",
     "shell.execute_reply": "2025-07-30T19:28:51.396356Z",
     "shell.execute_reply.started": "2025-07-30T19:28:51.374387Z"
    },
    "trusted": true
   },
   "outputs": [],
   "source": [
    "from sklearn.linear_model import LogisticRegression"
   ]
  },
  {
   "cell_type": "code",
   "execution_count": 19,
   "metadata": {
    "execution": {
     "iopub.execute_input": "2025-07-30T19:28:51.399613Z",
     "iopub.status.busy": "2025-07-30T19:28:51.399215Z",
     "iopub.status.idle": "2025-07-30T19:28:51.516224Z",
     "shell.execute_reply": "2025-07-30T19:28:51.512582Z",
     "shell.execute_reply.started": "2025-07-30T19:28:51.39958Z"
    },
    "trusted": true
   },
   "outputs": [],
   "source": [
    "log_model=LogisticRegression()\n",
    "log_model.fit(X_train,y_train)\n",
    "pred=log_model.predict(X_test)"
   ]
  },
  {
   "cell_type": "code",
   "execution_count": 20,
   "metadata": {
    "execution": {
     "iopub.execute_input": "2025-07-30T19:28:51.517254Z",
     "iopub.status.busy": "2025-07-30T19:28:51.516963Z",
     "iopub.status.idle": "2025-07-30T19:28:51.522973Z",
     "shell.execute_reply": "2025-07-30T19:28:51.521868Z",
     "shell.execute_reply.started": "2025-07-30T19:28:51.517228Z"
    },
    "trusted": true
   },
   "outputs": [],
   "source": [
    "from sklearn.metrics import classification_report,confusion_matrix"
   ]
  },
  {
   "cell_type": "code",
   "execution_count": 21,
   "metadata": {
    "execution": {
     "iopub.execute_input": "2025-07-30T19:28:51.52484Z",
     "iopub.status.busy": "2025-07-30T19:28:51.523792Z",
     "iopub.status.idle": "2025-07-30T19:28:51.562381Z",
     "shell.execute_reply": "2025-07-30T19:28:51.560168Z",
     "shell.execute_reply.started": "2025-07-30T19:28:51.524801Z"
    },
    "trusted": true
   },
   "outputs": [
    {
     "name": "stdout",
     "output_type": "stream",
     "text": [
      "[[106  31]\n",
      " [ 23 140]] \n",
      "               precision    recall  f1-score   support\n",
      "\n",
      "           0       0.82      0.77      0.80       137\n",
      "           1       0.82      0.86      0.84       163\n",
      "\n",
      "    accuracy                           0.82       300\n",
      "   macro avg       0.82      0.82      0.82       300\n",
      "weighted avg       0.82      0.82      0.82       300\n",
      "\n"
     ]
    }
   ],
   "source": [
    "print(confusion_matrix(y_test,pred),'\\n',classification_report(y_test,pred))"
   ]
  },
  {
   "cell_type": "markdown",
   "metadata": {},
   "source": [
    "### K-Nearest Neighbors"
   ]
  },
  {
   "cell_type": "code",
   "execution_count": 22,
   "metadata": {
    "execution": {
     "iopub.execute_input": "2025-07-30T19:28:51.563837Z",
     "iopub.status.busy": "2025-07-30T19:28:51.563519Z",
     "iopub.status.idle": "2025-07-30T19:28:51.57323Z",
     "shell.execute_reply": "2025-07-30T19:28:51.572156Z",
     "shell.execute_reply.started": "2025-07-30T19:28:51.563811Z"
    },
    "trusted": true
   },
   "outputs": [],
   "source": [
    "from sklearn.neighbors import KNeighborsClassifier"
   ]
  },
  {
   "cell_type": "code",
   "execution_count": 23,
   "metadata": {
    "execution": {
     "iopub.execute_input": "2025-07-30T19:28:51.575615Z",
     "iopub.status.busy": "2025-07-30T19:28:51.574354Z",
     "iopub.status.idle": "2025-07-30T19:28:52.691666Z",
     "shell.execute_reply": "2025-07-30T19:28:52.690257Z",
     "shell.execute_reply.started": "2025-07-30T19:28:51.575576Z"
    },
    "trusted": true
   },
   "outputs": [],
   "source": [
    "error=[]\n",
    "for i in range(1,40):\n",
    "    knn=KNeighborsClassifier(n_neighbors=i)\n",
    "    knn.fit(X_train,y_train)\n",
    "    pred=knn.predict(X_test)\n",
    "    error.append(np.mean(pred!=y_test))"
   ]
  },
  {
   "cell_type": "code",
   "execution_count": 44,
   "metadata": {
    "execution": {
     "iopub.execute_input": "2025-07-30T19:28:52.693506Z",
     "iopub.status.busy": "2025-07-30T19:28:52.692946Z",
     "iopub.status.idle": "2025-07-30T19:28:52.936536Z",
     "shell.execute_reply": "2025-07-30T19:28:52.935397Z",
     "shell.execute_reply.started": "2025-07-30T19:28:52.693469Z"
    },
    "trusted": true
   },
   "outputs": [
    {
     "data": {
      "text/plain": [
       "Text(0.5, 0, 'No. of neighbors')"
      ]
     },
     "execution_count": 44,
     "metadata": {},
     "output_type": "execute_result"
    },
    {
     "data": {
      "image/png": "[encoded data removed]",
      "text/plain": [
       "<Figure size 640x480 with 1 Axes>"
      ]
     },
     "metadata": {},
     "output_type": "display_data"
    }
   ],
   "source": [
    "plt.plot(range(1,40),error,'r--o')\n",
    "plt.ylabel('Error')\n",
    "plt.xlabel('No. of neighbors')"
   ]
  },
  {
   "cell_type": "code",
   "execution_count": 45,
   "metadata": {
    "execution": {
     "iopub.execute_input": "2025-07-30T19:28:52.93816Z",
     "iopub.status.busy": "2025-07-30T19:28:52.937744Z",
     "iopub.status.idle": "2025-07-30T19:28:52.984227Z",
     "shell.execute_reply": "2025-07-30T19:28:52.983155Z",
     "shell.execute_reply.started": "2025-07-30T19:28:52.938122Z"
    },
    "trusted": true
   },
   "outputs": [],
   "source": [
    "knn=KNeighborsClassifier(n_neighbors=5)\n",
    "knn.fit(X_train,y_train)\n",
    "pred=knn.predict(X_test)"
   ]
  },
  {
   "cell_type": "code",
   "execution_count": 46,
   "metadata": {
    "execution": {
     "iopub.execute_input": "2025-07-30T19:28:52.985782Z",
     "iopub.status.busy": "2025-07-30T19:28:52.985417Z",
     "iopub.status.idle": "2025-07-30T19:28:53.003581Z",
     "shell.execute_reply": "2025-07-30T19:28:53.002366Z",
     "shell.execute_reply.started": "2025-07-30T19:28:52.985751Z"
    },
    "trusted": true
   },
   "outputs": [
    {
     "name": "stdout",
     "output_type": "stream",
     "text": [
      "[[121  16]\n",
      " [  9 154]] \n",
      "               precision    recall  f1-score   support\n",
      "\n",
      "           0       0.93      0.88      0.91       137\n",
      "           1       0.91      0.94      0.92       163\n",
      "\n",
      "    accuracy                           0.92       300\n",
      "   macro avg       0.92      0.91      0.92       300\n",
      "weighted avg       0.92      0.92      0.92       300\n",
      "\n"
     ]
    }
   ],
   "source": [
    "print(confusion_matrix(y_test,pred),'\\n',classification_report(y_test,pred))"
   ]
  },
  {
   "cell_type": "markdown",
   "metadata": {},
   "source": [
    "### Decision Tree"
   ]
  },
  {
   "cell_type": "code",
   "execution_count": 47,
   "metadata": {
    "execution": {
     "iopub.execute_input": "2025-07-30T19:28:53.005237Z",
     "iopub.status.busy": "2025-07-30T19:28:53.004851Z",
     "iopub.status.idle": "2025-07-30T19:28:53.022476Z",
     "shell.execute_reply": "2025-07-30T19:28:53.021027Z",
     "shell.execute_reply.started": "2025-07-30T19:28:53.005207Z"
    },
    "trusted": true
   },
   "outputs": [],
   "source": [
    "from sklearn.tree import DecisionTreeClassifier"
   ]
  },
  {
   "cell_type": "code",
   "execution_count": 28,
   "metadata": {
    "execution": {
     "iopub.execute_input": "2025-07-30T19:28:53.024123Z",
     "iopub.status.busy": "2025-07-30T19:28:53.023646Z",
     "iopub.status.idle": "2025-07-30T19:28:53.083218Z",
     "shell.execute_reply": "2025-07-30T19:28:53.081588Z",
     "shell.execute_reply.started": "2025-07-30T19:28:53.024019Z"
    },
    "trusted": true
   },
   "outputs": [],
   "source": [
    "dtree=DecisionTreeClassifier()\n",
    "dtree.fit(X_train,y_train)\n",
    "pred=dtree.predict(X_test)"
   ]
  },
  {
   "cell_type": "code",
   "execution_count": 29,
   "metadata": {
    "execution": {
     "iopub.execute_input": "2025-07-30T19:28:53.084862Z",
     "iopub.status.busy": "2025-07-30T19:28:53.084467Z",
     "iopub.status.idle": "2025-07-30T19:28:53.102886Z",
     "shell.execute_reply": "2025-07-30T19:28:53.101597Z",
     "shell.execute_reply.started": "2025-07-30T19:28:53.08483Z"
    },
    "trusted": true
   },
   "outputs": [
    {
     "name": "stdout",
     "output_type": "stream",
     "text": [
      "[[ 99  38]\n",
      " [ 47 116]] \n",
      "               precision    recall  f1-score   support\n",
      "\n",
      "           0       0.68      0.72      0.70       137\n",
      "           1       0.75      0.71      0.73       163\n",
      "\n",
      "    accuracy                           0.72       300\n",
      "   macro avg       0.72      0.72      0.72       300\n",
      "weighted avg       0.72      0.72      0.72       300\n",
      "\n"
     ]
    }
   ],
   "source": [
    "print(confusion_matrix(y_test,pred),'\\n',classification_report(y_test,pred))"
   ]
  },
  {
   "cell_type": "markdown",
   "metadata": {},
   "source": [
    "### Random Forest"
   ]
  },
  {
   "cell_type": "code",
   "execution_count": 48,
   "metadata": {
    "execution": {
     "iopub.execute_input": "2025-07-30T19:28:53.104341Z",
     "iopub.status.busy": "2025-07-30T19:28:53.104048Z",
     "iopub.status.idle": "2025-07-30T19:28:53.126765Z",
     "shell.execute_reply": "2025-07-30T19:28:53.125258Z",
     "shell.execute_reply.started": "2025-07-30T19:28:53.10431Z"
    },
    "trusted": true
   },
   "outputs": [],
   "source": [
    "from sklearn.ensemble import RandomForestClassifier"
   ]
  },
  {
   "cell_type": "code",
   "execution_count": 31,
   "metadata": {
    "execution": {
     "iopub.execute_input": "2025-07-30T19:28:53.128435Z",
     "iopub.status.busy": "2025-07-30T19:28:53.128068Z",
     "iopub.status.idle": "2025-07-30T19:28:53.659589Z",
     "shell.execute_reply": "2025-07-30T19:28:53.658311Z",
     "shell.execute_reply.started": "2025-07-30T19:28:53.12841Z"
    },
    "trusted": true
   },
   "outputs": [],
   "source": [
    "rfc=RandomForestClassifier()\n",
    "rfc.fit(X_train,y_train)\n",
    "pred=rfc.predict(X_test)"
   ]
  },
  {
   "cell_type": "code",
   "execution_count": 32,
   "metadata": {
    "execution": {
     "iopub.execute_input": "2025-07-30T19:28:53.666525Z",
     "iopub.status.busy": "2025-07-30T19:28:53.665855Z",
     "iopub.status.idle": "2025-07-30T19:28:53.685477Z",
     "shell.execute_reply": "2025-07-30T19:28:53.684382Z",
     "shell.execute_reply.started": "2025-07-30T19:28:53.666472Z"
    },
    "trusted": true
   },
   "outputs": [
    {
     "name": "stdout",
     "output_type": "stream",
     "text": [
      "[[116  21]\n",
      " [ 21 142]] \n",
      "               precision    recall  f1-score   support\n",
      "\n",
      "           0       0.85      0.85      0.85       137\n",
      "           1       0.87      0.87      0.87       163\n",
      "\n",
      "    accuracy                           0.86       300\n",
      "   macro avg       0.86      0.86      0.86       300\n",
      "weighted avg       0.86      0.86      0.86       300\n",
      "\n"
     ]
    }
   ],
   "source": [
    "print(confusion_matrix(y_test,pred),'\\n',classification_report(y_test,pred))"
   ]
  },
  {
   "cell_type": "markdown",
   "metadata": {},
   "source": [
    "### Support Vector Machines"
   ]
  },
  {
   "cell_type": "code",
   "execution_count": 33,
   "metadata": {
    "execution": {
     "iopub.execute_input": "2025-07-30T19:28:53.686961Z",
     "iopub.status.busy": "2025-07-30T19:28:53.686548Z",
     "iopub.status.idle": "2025-07-30T19:28:53.709715Z",
     "shell.execute_reply": "2025-07-30T19:28:53.708234Z",
     "shell.execute_reply.started": "2025-07-30T19:28:53.686894Z"
    },
    "trusted": true
   },
   "outputs": [],
   "source": [
    "from sklearn.svm import SVC"
   ]
  },
  {
   "cell_type": "code",
   "execution_count": 34,
   "metadata": {
    "execution": {
     "iopub.execute_input": "2025-07-30T19:28:53.711611Z",
     "iopub.status.busy": "2025-07-30T19:28:53.711188Z",
     "iopub.status.idle": "2025-07-30T19:28:53.777702Z",
     "shell.execute_reply": "2025-07-30T19:28:53.776244Z",
     "shell.execute_reply.started": "2025-07-30T19:28:53.711573Z"
    },
    "trusted": true
   },
   "outputs": [],
   "source": [
    "svc=SVC()\n",
    "svc.fit(X_train,y_train)\n",
    "pred=svc.predict(X_test)"
   ]
  },
  {
   "cell_type": "code",
   "execution_count": 35,
   "metadata": {
    "execution": {
     "iopub.execute_input": "2025-07-30T19:28:53.779417Z",
     "iopub.status.busy": "2025-07-30T19:28:53.779034Z",
     "iopub.status.idle": "2025-07-30T19:28:53.79933Z",
     "shell.execute_reply": "2025-07-30T19:28:53.798188Z",
     "shell.execute_reply.started": "2025-07-30T19:28:53.779389Z"
    },
    "trusted": true
   },
   "outputs": [
    {
     "name": "stdout",
     "output_type": "stream",
     "text": [
      "[[119  18]\n",
      " [ 17 146]] \n",
      "               precision    recall  f1-score   support\n",
      "\n",
      "           0       0.88      0.87      0.87       137\n",
      "           1       0.89      0.90      0.89       163\n",
      "\n",
      "    accuracy                           0.88       300\n",
      "   macro avg       0.88      0.88      0.88       300\n",
      "weighted avg       0.88      0.88      0.88       300\n",
      "\n"
     ]
    }
   ],
   "source": [
    "print(confusion_matrix(y_test,pred),'\\n',classification_report(y_test,pred))"
   ]
  },
  {
   "cell_type": "markdown",
   "metadata": {},
   "source": [
    "## Final Submission"
   ]
  },
  {
   "cell_type": "code",
   "execution_count": 49,
   "metadata": {
    "execution": {
     "iopub.execute_input": "2025-07-30T19:28:54.152201Z",
     "iopub.status.busy": "2025-07-30T19:28:54.151838Z",
     "iopub.status.idle": "2025-07-30T19:28:54.650353Z",
     "shell.execute_reply": "2025-07-30T19:28:54.649286Z",
     "shell.execute_reply.started": "2025-07-30T19:28:54.152176Z"
    },
    "trusted": true
   },
   "outputs": [],
   "source": [
    "knn=KNeighborsClassifier(n_neighbors=5)\n",
    "knn.fit(X,y)\n",
    "pred=knn.predict(test)"
   ]
  },
  {
   "cell_type": "code",
   "execution_count": 50,
   "metadata": {
    "execution": {
     "iopub.execute_input": "2025-07-30T19:28:54.651747Z",
     "iopub.status.busy": "2025-07-30T19:28:54.651453Z",
     "iopub.status.idle": "2025-07-30T19:28:54.659145Z",
     "shell.execute_reply": "2025-07-30T19:28:54.657831Z",
     "shell.execute_reply.started": "2025-07-30T19:28:54.651724Z"
    },
    "trusted": true
   },
   "outputs": [],
   "source": [
    "final=pd.DataFrame({'Id':np.arange(1,pred.shape[0]+1),'Solution':pred}).set_index('Id')"
   ]
  },
  {
   "cell_type": "code",
   "execution_count": 51,
   "metadata": {
    "execution": {
     "iopub.execute_input": "2025-07-30T19:28:54.660996Z",
     "iopub.status.busy": "2025-07-30T19:28:54.660586Z",
     "iopub.status.idle": "2025-07-30T19:28:54.69585Z",
     "shell.execute_reply": "2025-07-30T19:28:54.69453Z",
     "shell.execute_reply.started": "2025-07-30T19:28:54.660963Z"
    },
    "trusted": true
   },
   "outputs": [],
   "source": [
    "final.to_csv('final.csv')"
   ]
  }
 ],
 "metadata": {
  "kaggle": {
   "accelerator": "none",
   "dataSources": [
    {
     "databundleVersionId": 31210,
     "sourceId": 3428,
     "sourceType": "competition"
    }
   ],
   "dockerImageVersionId": 31089,
   "isGpuEnabled": false,
   "isInternetEnabled": true,
   "language": "python",
   "sourceType": "notebook"
  },
  "kernelspec": {
   "display_name": "mldl",
   "language": "python",
   "name": "python3"
  },
  "language_info": {
   "codemirror_mode": {
    "name": "ipython",
    "version": 3
   },
   "file_extension": ".py",
   "mimetype": "text/x-python",
   "name": "python",
   "nbconvert_exporter": "python",
   "pygments_lexer": "ipython3",
   "version": "3.10.12"
  }
 },
 "nbformat": 4,
 "nbformat_minor": 4
}
